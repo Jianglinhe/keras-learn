{
 "cells": [
  {
   "cell_type": "markdown",
   "metadata": {},
   "source": [
    "# 基本问题"
   ]
  },
  {
   "cell_type": "code",
   "execution_count": 1,
   "metadata": {},
   "outputs": [],
   "source": [
    "import numpy as np"
   ]
  },
  {
   "cell_type": "code",
   "execution_count": 5,
   "metadata": {},
   "outputs": [
    {
     "name": "stdout",
     "output_type": "stream",
     "text": [
      "[[1 2]\n",
      " [3 4]]\n"
     ]
    }
   ],
   "source": [
    "a = np.array([[1,2],[3,4]])\n",
    "print(a)"
   ]
  },
  {
   "cell_type": "code",
   "execution_count": 9,
   "metadata": {},
   "outputs": [],
   "source": [
    "sum0 = np.sum(a,axis=0) # axis = 0 表示对每列求和\n",
    "sum1 = np.sum(a,axis=1) # axis = 1 表示对每行求和\n",
    "sum = np.sum(a) # 对所有元素求和，默认axis=None"
   ]
  },
  {
   "cell_type": "code",
   "execution_count": 10,
   "metadata": {},
   "outputs": [
    {
     "name": "stdout",
     "output_type": "stream",
     "text": [
      "[4 6]\n",
      "[3 7]\n",
      "10\n"
     ]
    }
   ],
   "source": [
    "print(sum0)\n",
    "print(sum1)\n",
    "print(sum)"
   ]
  },
  {
   "cell_type": "markdown",
   "metadata": {},
   "source": [
    "## 彩色图片通道问题：\n",
    "    1.tensorflow通道在后,(100,16,32,3)表示100张RGB三通道的16*32彩色图片\n",
    "    2.theano/caffe则采用通道在前，(100,3,16,32)"
   ]
  },
  {
   "cell_type": "markdown",
   "metadata": {},
   "source": [
    "## batch \n",
    "    Keras中的优化器SDG是随机梯度下降法的缩写,但不代表是一个样本就更新一回，还是基于mini-batch的。"
   ]
  },
  {
   "cell_type": "markdown",
   "metadata": {},
   "source": [
    "## Keras调用GPU\n",
    "    采用tensorflow作为后端，当机器有可用的GPU时，代码会自动调用GPU进行并行运算"
   ]
  },
  {
   "cell_type": "markdown",
   "metadata": {},
   "source": [
    "## 保存Keras模型\n",
    "    使用model.save(filepath)将权重保存在一个HDF5文件中，该文件包含：\n",
    "    ·模型的结构，以便重构该模型\n",
    "    ·模型的权重\n",
    "    ·训练配置（损失函数，优化器等）\n",
    "    ·优化器的状态，以便从上次训练中断的地方开始"
   ]
  },
  {
   "cell_type": "markdown",
   "metadata": {},
   "source": [
    "### 保存模型的全部\n",
    "    keras.models import load_model\n",
    "    model.save('my_model.h5')\n",
    "    del model # deletes the existing model\n",
    "    model = load_model('my_model.h5') # return a compiled model"
   ]
  },
  {
   "cell_type": "markdown",
   "metadata": {},
   "source": [
    "### 只希望保存模型的结构，而不包含其权重或配置信息\n",
    "    json_string = model.to_json()# save as JSON\n",
    "    yaml_string = model.to_yaml()# save as yaml\n",
    "    \n",
    "    # 从保存好的json文件或yaml文件中载入文件\n",
    "    from keras.models import model_from_json,model_from_yaml\n",
    "    model = model_from_json(json_string)\n",
    "    model = model_from_yaml(yaml_string)"
   ]
  },
  {
   "cell_type": "markdown",
   "metadata": {},
   "source": [
    "### 保存模型的权重\n",
    "    model.save_weights('my_model_weights.h5')\n",
    "    # 在代码中初始化一个完全相同的模型\n",
    "    model.load_weights('my_mode_weights.h5')\n",
    "    # 需要加载权重到不同的网络结构中（有些层一样）中，例如fine-tune，可以通过层的名字来加载模型：\n",
    "    model.load_weights('my_model_weights.h5',by_name = True)\n",
    "    \n",
    "    \"\"\"\n",
    "    假如原模型为：\n",
    "    model = Sequential()\n",
    "    model.add(Dense(2, input_dim=3, name=\"dense_1\"))\n",
    "    model.add(Dense(3, name=\"dense_2\"))\n",
    "    ...\n",
    "    model.save_weights(fname)\n",
    "    \"\"\"\n",
    "    # new model\n",
    "    model = Sequential()\n",
    "    model.add(Dense(2, input_dim=3, name=\"dense_1\"))  # will be loaded\n",
    "    model.add(Dense(10, name=\"new_dense\"))  # will not be loaded\n",
    "\n",
    "    # load weights from first model; will only affect the first layer, dense_1.\n",
    "    model.load_weights(fname, by_name=True)"
   ]
  },
  {
   "cell_type": "markdown",
   "metadata": {},
   "source": [
    "## 获取中间层的输出\n",
    "    from keras.models import Model\n",
    "    model = ...# create the original model\n",
    "    layer_name = 'my_layer'\n",
    "    intermediate_layer_model = Model(input=model.input,output=model.get_layer(layer_name).output)\n",
    "    intermdediate_output = intermediate_layer_model.predict(data)"
   ]
  },
  {
   "cell_type": "markdown",
   "metadata": {},
   "source": [
    "## 利用keras处理超过机器内存的数据集\n",
    "- model.train_on_batch(X,y)和model.test_on_batch(X,yield) \n",
    "\n",
    "- 也可以编写一个每次产生一个batch样本的生成器函数，并调用\n",
    "  model.fit_generator(data_generator, samples_per_epoch, nb_epoch)"
   ]
  },
  {
   "cell_type": "markdown",
   "metadata": {},
   "source": [
    "## 当验证集loss不在下降时，中断训练\n",
    "    from keras.callbacks import EarlyStopping\n",
    "    early_stopping = EarlyStopping(monitor='val_loss', patience=2)\n",
    "    model.fit(X, y, validation_split=0.2, callbacks=[early_stopping])"
   ]
  },
  {
   "cell_type": "markdown",
   "metadata": {},
   "source": [
    "## 验证集如何从训练集中分割出来\n",
    "    在model.fit中设置validation_spilt的值"
   ]
  },
  {
   "cell_type": "markdown",
   "metadata": {},
   "source": [
    "## 训练数据在训练时会被随机洗乱吗\n",
    "    设置model.fit的参数shuffle为真，训练数据就会被随机洗乱。不设置时默认为真。训练数据会在每个epoch的训练都重新洗乱一次。"
   ]
  },
  {
   "cell_type": "markdown",
   "metadata": {},
   "source": [
    "## 如何在每个epoch后记录训练/测试的loss的正确率\n",
    "    model.fit运行结束后返回一个History对象，其中history属性包含了训练过程中的损失函数的值以及其他度量指标。\n",
    "    hist = model.fit(X,y,validation_split=0.2)\n",
    "    print(hist.history)"
   ]
  },
  {
   "cell_type": "markdown",
   "metadata": {},
   "source": [
    "## 从Sequential模型中除去一个层\n",
    "    model = Sequential()\n",
    "    model.add(Dense(32, activation='relu', input_dim=784))\n",
    "    model.add(Dense(32, activation='relu'))\n",
    "\n",
    "    print(len(model.layers))  # \"2\"\n",
    "\n",
    "    model.pop()\n",
    "    print(len(model.layers))  # \"1\""
   ]
  },
  {
   "cell_type": "markdown",
   "metadata": {},
   "source": [
    "## 如何自keras中使用预训练的模型\n",
    "提供下列图像分类的模型代码及预训练权重\n",
    "- VGG16\n",
    "- VGG19\n",
    "- ResNet50\n",
    "- inception v3"
   ]
  },
  {
   "cell_type": "markdown",
   "metadata": {},
   "source": [
    "    from keras.applications.vgg16 import VGG16\n",
    "    from keras.applications.vgg19 import VGG19\n",
    "    from keras.applications.resnet50 import ResNet50\n",
    "    from keras.applications.inception_v3 import InceptionV3\n",
    "\n",
    "    model = VGG16(weights='imagenet', include_top=True)"
   ]
  }
 ],
 "metadata": {
  "kernelspec": {
   "display_name": "Python 3",
   "language": "python",
   "name": "python3"
  },
  "language_info": {
   "codemirror_mode": {
    "name": "ipython",
    "version": 3
   },
   "file_extension": ".py",
   "mimetype": "text/x-python",
   "name": "python",
   "nbconvert_exporter": "python",
   "pygments_lexer": "ipython3",
   "version": "3.5.5"
  },
  "toc": {
   "base_numbering": 1,
   "nav_menu": {},
   "number_sections": true,
   "sideBar": true,
   "skip_h1_title": false,
   "title_cell": "Table of Contents",
   "title_sidebar": "Contents",
   "toc_cell": false,
   "toc_position": {
    "height": "calc(100% - 180px)",
    "left": "10px",
    "top": "150px",
    "width": "273.188px"
   },
   "toc_section_display": true,
   "toc_window_display": true
  }
 },
 "nbformat": 4,
 "nbformat_minor": 2
}
